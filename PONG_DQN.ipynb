{
  "nbformat": 4,
  "nbformat_minor": 0,
  "metadata": {
    "colab": {
      "name": "PONG_DQN.ipynb",
      "provenance": [],
      "authorship_tag": "ABX9TyOkxmejr6F+nzIiyYwuOlGM",
      "include_colab_link": true
    },
    "kernelspec": {
      "name": "python3",
      "display_name": "Python 3"
    },
    "accelerator": "GPU"
  },
  "cells": [
    {
      "cell_type": "markdown",
      "metadata": {
        "id": "view-in-github",
        "colab_type": "text"
      },
      "source": [
        "<a href=\"https://colab.research.google.com/github/kiran74-ds/reinforcement_learning/blob/master/PONG_DQN.ipynb\" target=\"_parent\"><img src=\"https://colab.research.google.com/assets/colab-badge.svg\" alt=\"Open In Colab\"/></a>"
      ]
    },
    {
      "cell_type": "code",
      "metadata": {
        "id": "Whc3OUFy4WlS",
        "colab_type": "code",
        "colab": {}
      },
      "source": [
        "import gym\n",
        "import numpy as np\n",
        "import cv2\n",
        "from collections import deque\n",
        "import matplotlib.pyplot as plt"
      ],
      "execution_count": 47,
      "outputs": []
    },
    {
      "cell_type": "code",
      "metadata": {
        "id": "ssF3xgJw4XZ4",
        "colab_type": "code",
        "colab": {}
      },
      "source": [
        "env = gym.make('PongDeterministic-v0')"
      ],
      "execution_count": 48,
      "outputs": []
    },
    {
      "cell_type": "code",
      "metadata": {
        "id": "FcuEiowS4mtL",
        "colab_type": "code",
        "colab": {}
      },
      "source": [
        "state_size = env.observation_space.shape[0]\n",
        "action_size = env.action_space.n"
      ],
      "execution_count": 49,
      "outputs": []
    },
    {
      "cell_type": "code",
      "metadata": {
        "id": "hNTJq7GI42hr",
        "colab_type": "code",
        "colab": {}
      },
      "source": [
        "def preprocess_frame(frame):\n",
        "    \n",
        "    gray_image = cv2.cvtColor(frame, cv2.COLOR_BGR2GRAY)\n",
        "    normalize_image = gray_image[30:, :] / 255.\n",
        "    resized_image = cv2.resize(normalize_image, (84, 84), interpolation = cv2.INTER_AREA) \n",
        "    \n",
        "    #bkg_color = np.array([144, 72, 17]\n",
        "    #img = np.mean(frame[34:-16:2,::2]-bkg_color, axis=-1)/255.\n",
        "    \n",
        "    return resized_image\n",
        "\n",
        "def stack_frames(stacked_frames, state, is_new_episode):\n",
        "    # Preprocess frame\n",
        "    frame = preprocess_frame(state)\n",
        "    stack_size = 4\n",
        "    if is_new_episode:\n",
        "        # Clear our stacked_frames\n",
        "        stacked_frames = deque([np.zeros((84,84), dtype=np.uint8) for i in range(stack_size)], maxlen=4)\n",
        "        # Because we're in a new episode, copy the same frame 4x\n",
        "        for i in range(stack_size):\n",
        "          stacked_frames.append(frame)\n",
        "        \n",
        "        # Stack the frames\n",
        "        stacked_state = np.stack(stacked_frames, axis=2).transpose(2, 0, 1)\n",
        "    else:\n",
        "        # Append frame to deque, automatically removes the oldest frame\n",
        "        stacked_frames.append(frame)\n",
        "        # Build the stacked state (first dimension specifies different frames)\n",
        "        stacked_state = np.stack(stacked_frames, axis=2).transpose(2, 0, 1)\n",
        "        \n",
        "    return stacked_state, stacked_frames\n",
        "\n",
        "\n",
        "stacked_frames = deque([np.zeros((84,84), dtype=np.uint8) for i in range(4)], maxlen=4)"
      ],
      "execution_count": 51,
      "outputs": []
    },
    {
      "cell_type": "code",
      "metadata": {
        "id": "MumQ2aZH9AW0",
        "colab_type": "code",
        "colab": {}
      },
      "source": [
        "state = env.reset()"
      ],
      "execution_count": 52,
      "outputs": []
    },
    {
      "cell_type": "code",
      "metadata": {
        "id": "zd69CiY29DAO",
        "colab_type": "code",
        "colab": {
          "base_uri": "https://localhost:8080/",
          "height": 34
        },
        "outputId": "940f3f37-c18e-44ec-eb75-dc69d0a85948"
      },
      "source": [
        "state.shape"
      ],
      "execution_count": 53,
      "outputs": [
        {
          "output_type": "execute_result",
          "data": {
            "text/plain": [
              "(210, 160, 3)"
            ]
          },
          "metadata": {
            "tags": []
          },
          "execution_count": 53
        }
      ]
    },
    {
      "cell_type": "code",
      "metadata": {
        "id": "fw486NFZ5coq",
        "colab_type": "code",
        "colab": {}
      },
      "source": [
        "import torch\n",
        "import torch.nn as nn\n",
        "import torch.nn.functional as F"
      ],
      "execution_count": 54,
      "outputs": []
    },
    {
      "cell_type": "code",
      "metadata": {
        "id": "YHimbZCK4-tY",
        "colab_type": "code",
        "colab": {}
      },
      "source": [
        "class DQNetwork(nn.Module):\n",
        "    def __init__(self, states, action_size):\n",
        "        super(DQNetwork, self).__init__()\n",
        "        \n",
        "        self.conv1 = nn.Conv2d(4, 32, (8, 8), stride=4)\n",
        "        self.conv2 = nn.Conv2d(32, 64, (4, 4), stride=2)\n",
        "        self.conv3 = nn.Conv2d(64, 64, (3, 3), stride=1)\n",
        "        self.flatten = nn.Flatten()\n",
        "        self.fc1 = nn.Linear(7*7*64, 512)\n",
        "        self.fc2 = nn.Linear(512, action_size)\n",
        "        \n",
        "    def forward(self, state):\n",
        "       \n",
        "        x = F.relu(self.conv1(state))\n",
        "        x = F.relu(self.conv2(x))\n",
        "        x = F.relu(self.conv3(x))\n",
        "        x = self.flatten(x)\n",
        "        x = F.relu(self.fc1(x))\n",
        "        x = self.fc2(x)\n",
        "        return x"
      ],
      "execution_count": 55,
      "outputs": []
    },
    {
      "cell_type": "code",
      "metadata": {
        "id": "Qwizv3-55D5h",
        "colab_type": "code",
        "colab": {}
      },
      "source": [
        "import numpy as np\n",
        "import random\n",
        "from collections import namedtuple, deque\n",
        "import torch\n",
        "import torch.nn.functional as F\n",
        "import torch.optim as optim\n",
        "\n",
        "\n",
        "device = torch.device(\"cuda\" if torch.cuda.is_available() else \"cpu\")\n",
        "\n",
        "class Agent():\n",
        "    def __init__(self, state_size, action_size):\n",
        "        \n",
        "        self.state_size = state_size\n",
        "        self.action_size = action_size\n",
        "        self.seed = random.seed(0)\n",
        "\n",
        "        ## hyperparameters\n",
        "        self.buffer_size = 2000\n",
        "        self.batch_size = 64\n",
        "        self.gamma = 0.99\n",
        "        self.lr = 0.0025\n",
        "        self.update_every = 4        \n",
        "\n",
        "        # Q-Network\n",
        "        self.local = DQNetwork(state_size, action_size).to(device)\n",
        "        self.target = DQNetwork(state_size, action_size).to(device)\n",
        "        self.optimizer = optim.Adam(self.local.parameters(), lr=self.lr)\n",
        "\n",
        "        # Replay memory\n",
        "        self.memory = deque(maxlen=self.buffer_size)  \n",
        "        self.experience = namedtuple(\"Experience\", field_names=[\"state\", \"action\", \"reward\", \"next_state\", \"done\"])\n",
        "        # Initialize time step (for updating every few steps)\n",
        "        self.t_step = 0\n",
        "    \n",
        "    def step(self, state, action, reward, next_state, done):\n",
        "        # Save experience in replay memory\n",
        "        self.memory.append(self.experience(state[None], action, reward, next_state[None], done))\n",
        "        \n",
        "        # Learn every update_every time steps.\n",
        "        self.t_step = (self.t_step + 1) % self.update_every\n",
        "        if self.t_step == 0:\n",
        "            # If enough samples are available in memory, get random subset and learn\n",
        "            if len(self.memory) > self.batch_size:\n",
        "                experiences = self.sample_experiences()\n",
        "                self.learn(experiences, self.gamma)\n",
        "\n",
        "    def act(self, state, eps=0.):\n",
        "        # Epsilon-greedy action selection\n",
        "        if random.random() > eps:\n",
        "          state = torch.from_numpy(state).float().unsqueeze(0).to(device)\n",
        "          self.local.eval()\n",
        "          with torch.no_grad():\n",
        "            action_values = self.local(state)\n",
        "          self.local.train()\n",
        "          return np.argmax(action_values.cpu().data.numpy())\n",
        "        else:\n",
        "          return random.choice(np.arange(self.action_size))\n",
        "\n",
        "    def learn(self, experiences, gamma):\n",
        "        \n",
        "        states, actions, rewards, next_states, dones = experiences\n",
        "       # Get expected Q values from local model\n",
        "        Q_expected = self.local(states).gather(1, actions)\n",
        "\n",
        "        # Get max predicted Q values (for next states) from target model\n",
        "        Q_targets_next = self.target(next_states).detach().max(1)[0].unsqueeze(1)\n",
        "        # Compute Q targets for current states \n",
        "        Q_targets = rewards + (gamma * Q_targets_next * (1 - dones))\n",
        "        \n",
        "        # Compute loss\n",
        "        loss = F.mse_loss(Q_expected, Q_targets)\n",
        "\n",
        "        # Minimize the loss\n",
        "        self.optimizer.zero_grad()\n",
        "        loss.backward()\n",
        "        self.optimizer.step()\n",
        "\n",
        "        # ------------------- update target network ------------------- #\n",
        "        self.soft_update()                  \n",
        "\n",
        "\n",
        "    def soft_update(self):\n",
        "        for target_param, local_param in zip(self.target.parameters(), self.local.parameters()):\n",
        "            target_param.data.copy_(0.02*local_param.data + (1.0-0.02)*target_param.data)\n",
        "\n",
        "    def sample_experiences(self):\n",
        "        experiences = random.sample(self.memory, k=self.batch_size)\n",
        "        \n",
        "        states = torch.from_numpy(np.vstack([e.state for e in experiences if e is not None])).float().to(device)\n",
        "        actions = torch.from_numpy(np.vstack([e.action for e in experiences if e is not None])).long().to(device)\n",
        "        rewards = torch.from_numpy(np.vstack([e.reward for e in experiences if e is not None])).float().to(device)\n",
        "        next_states = torch.from_numpy(np.vstack([e.next_state for e in experiences if e is not None])).float().to(device)\n",
        "        dones = torch.from_numpy(np.vstack([e.done for e in experiences if e is not None]).astype(np.uint8)).float().to(device)\n",
        "        \n",
        "        return (states, actions, rewards, next_states, dones)\n",
        "\n",
        "\n"
      ],
      "execution_count": 56,
      "outputs": []
    },
    {
      "cell_type": "code",
      "metadata": {
        "id": "yz0V1eEk7Twl",
        "colab_type": "code",
        "colab": {}
      },
      "source": [
        "def dqn(n_episodes=200, max_t=5000, eps_start=1.0, eps_end=0.001, eps_decay=0.995):\n",
        "    \n",
        "    scores = []                        # list containing scores from each episode\n",
        "    scores_window = deque(maxlen=100)  # last 100 scores\n",
        "    eps = eps_start\n",
        "    stack_size = 4\n",
        "    stacked_frames  =  deque([np.zeros((84,84), dtype=np.int) for i in range(stack_size)], maxlen=stack_size)    \n",
        "    for i_episode in range(1, n_episodes+1):\n",
        "        state = env.reset()\n",
        "        state, frames = stack_frames(stacked_frames, state, True)\n",
        "        score = 0\n",
        "        for i in range(max_t):\n",
        "            action = agent.act(state, eps)\n",
        "            next_state, reward, done, _  = env.step(action)\n",
        "            next_state, frames = stack_frames(frames, next_state, False)\n",
        "            agent.step(state, action, reward, next_state, done)\n",
        "            state = next_state\n",
        "            score += reward\n",
        "            if done:\n",
        "                break \n",
        "        scores_window.append(score)       # save most recent score\n",
        "        scores.append(score)              # save most recent score\n",
        "        eps = max(eps_end, eps_decay*eps) # decrease epsilon\n",
        "        print('\\rEpisode {}\\tReward {} \\tAverage Score: {:.2f} \\tEpsilon: {}'.format(i_episode,score,np.mean(scores_window), eps), end=\"\")\n",
        "        if i_episode % 100 == 0:\n",
        "          print('\\rEpisode {}\\tAverage Score: {:.2f} \\tEpsilon: {}'.format(i_episode, np.mean(scores_window), eps))\n",
        "    return scores"
      ],
      "execution_count": 57,
      "outputs": []
    },
    {
      "cell_type": "code",
      "metadata": {
        "id": "9kfs4dna7Tug",
        "colab_type": "code",
        "colab": {}
      },
      "source": [
        "agent = Agent(state_size, action_size)"
      ],
      "execution_count": 58,
      "outputs": []
    },
    {
      "cell_type": "code",
      "metadata": {
        "id": "kRIJa3Rl7Tsf",
        "colab_type": "code",
        "colab": {
          "base_uri": "https://localhost:8080/",
          "height": 34
        },
        "outputId": "1a6c7c29-b67a-4655-8458-5e7818566233"
      },
      "source": [
        "dqn()"
      ],
      "execution_count": null,
      "outputs": [
        {
          "output_type": "stream",
          "text": [
            "Episode 3\tReward -21.0 \tAverage Score: -20.67 \tEpsilon: 0.985074875"
          ],
          "name": "stdout"
        }
      ]
    },
    {
      "cell_type": "code",
      "metadata": {
        "id": "g1XXXN2P7TqW",
        "colab_type": "code",
        "colab": {}
      },
      "source": [
        ""
      ],
      "execution_count": null,
      "outputs": []
    }
  ]
}