{
 "cells": [
  {
   "cell_type": "markdown",
   "metadata": {},
   "source": [
    "Dynamic programming refers to collection of algorithms that can be used to compute the optimal policies given a perfect model of the environment as MDP(Markov Decision Process)\n",
    "\n",
    "Limitations of DP , because of the assumptions of <b>perfect model</b> and <b>great computionally expensive</b>"
   ]
  },
  {
   "cell_type": "markdown",
   "metadata": {},
   "source": [
    "<b>The Key idea of DP is to use the value functions to organize and structure the search for good policies </b>\n",
    "\n",
    "As we already know, we can get the optimal policies once we have found the optimal value functions"
   ]
  },
  {
   "cell_type": "markdown",
   "metadata": {},
   "source": [
    "\\begin{align}\n",
    "V(s) = \\sum_a\\pi(a|s)\\sum_{s^\\prime,r}p(s^\\prime, r|s, a)(r+\\gamma*V(s^\\prime)))\n",
    "\\end{align}"
   ]
  },
  {
   "cell_type": "markdown",
   "metadata": {},
   "source": [
    "\\begin{align}\n",
    "Q(s, a) = \\sum_{s^\\prime,r}p(s^\\prime, r|s, a)(r+\\gamma*\\sum_{a^\\prime}\\pi(a^\\prime|s^\\prime)Q(s^\\prime,a^\\prime)))\n",
    "\\end{align}"
   ]
  },
  {
   "cell_type": "markdown",
   "metadata": {},
   "source": [
    "### Policy Evaluation:\n",
    "Computing state value function for arbitrary policy is called policy evaluation or prediction problem\n",
    "<br>\n",
    "<br>\n",
    "\n",
    "<img src='images/policy_evaluation.png' width=600>"
   ]
  },
  {
   "cell_type": "code",
   "execution_count": 53,
   "metadata": {},
   "outputs": [],
   "source": [
    "import gym\n",
    "import numpy as np\n",
    "env = gym.make('FrozenLake-v0')"
   ]
  },
  {
   "cell_type": "code",
   "execution_count": 54,
   "metadata": {},
   "outputs": [
    {
     "name": "stdout",
     "output_type": "stream",
     "text": [
      "Number of States : Discrete(16)\n",
      "Number of Actions :  Discrete(4)\n"
     ]
    }
   ],
   "source": [
    "print(\"Number of States :\", env.observation_space)\n",
    "\n",
    "print(\"Number of Actions : \", env.action_space)"
   ]
  },
  {
   "cell_type": "code",
   "execution_count": 55,
   "metadata": {},
   "outputs": [
    {
     "name": "stdout",
     "output_type": "stream",
     "text": [
      "\n",
      "\u001b[41mS\u001b[0mFFF\n",
      "FHFH\n",
      "FFFH\n",
      "HFFG\n"
     ]
    }
   ],
   "source": [
    "env.render()"
   ]
  },
  {
   "cell_type": "code",
   "execution_count": 56,
   "metadata": {},
   "outputs": [
    {
     "data": {
      "text/plain": [
       "{0: [(0.3333333333333333, 0, 0.0, False),\n",
       "  (0.3333333333333333, 0, 0.0, False),\n",
       "  (0.3333333333333333, 4, 0.0, False)],\n",
       " 1: [(0.3333333333333333, 0, 0.0, False),\n",
       "  (0.3333333333333333, 4, 0.0, False),\n",
       "  (0.3333333333333333, 1, 0.0, False)],\n",
       " 2: [(0.3333333333333333, 4, 0.0, False),\n",
       "  (0.3333333333333333, 1, 0.0, False),\n",
       "  (0.3333333333333333, 0, 0.0, False)],\n",
       " 3: [(0.3333333333333333, 1, 0.0, False),\n",
       "  (0.3333333333333333, 0, 0.0, False),\n",
       "  (0.3333333333333333, 0, 0.0, False)]}"
      ]
     },
     "execution_count": 56,
     "metadata": {},
     "output_type": "execute_result"
    }
   ],
   "source": [
    "env.P[0]"
   ]
  },
  {
   "cell_type": "markdown",
   "metadata": {},
   "source": [
    "#### Actions\n",
    "\n",
    "        LEFT = 0\n",
    "        DOWN = 1\n",
    "        RIGHT = 2\n",
    "        UP = 3 "
   ]
  },
  {
   "cell_type": "code",
   "execution_count": 57,
   "metadata": {},
   "outputs": [],
   "source": [
    "def iterative_policy_evaluation(env, policy, gamma=1.0, theta=1e-6):\n",
    "    '''\n",
    "    Calcuates State value function\n",
    "    Inputs: \n",
    "        env - Environment \n",
    "        policy - Random Policy which follows by agent to calculate state value funtion\n",
    "        gamma - gamma factor for discounted return\n",
    "        theta - threshold for determing the accuracy of the estimation\n",
    "    \n",
    "    '''\n",
    "    \n",
    "    V = np.zeros(env.nS) ## initialize all states to zero\n",
    "    while True:\n",
    "        delta = 0 \n",
    "        for state in range(env.nS):\n",
    "            v_s = 0 \n",
    "            for action, action_prob in enumerate(policy[state]):\n",
    "                for prob, next_state, reward, done in env.P[state][action]:\n",
    "                    v_s += action_prob * prob * (reward + gamma * V[next_state])\n",
    "            delta = max(delta, abs(V[state] - v_s))\n",
    "            V[state] = v_s\n",
    "        if delta<theta:\n",
    "            break\n",
    "    return V\n",
    "    "
   ]
  },
  {
   "cell_type": "code",
   "execution_count": 58,
   "metadata": {},
   "outputs": [],
   "source": [
    "random_policy = np.ones([env.nS, env.nA]) / env.nA"
   ]
  },
  {
   "cell_type": "code",
   "execution_count": 59,
   "metadata": {},
   "outputs": [],
   "source": [
    "V = iterative_policy_evaluation(env, random_policy)"
   ]
  },
  {
   "cell_type": "code",
   "execution_count": 60,
   "metadata": {},
   "outputs": [
    {
     "name": "stdout",
     "output_type": "stream",
     "text": [
      "\n",
      "\u001b[41mS\u001b[0mFFF\n",
      "FHFH\n",
      "FFFH\n",
      "HFFG\n"
     ]
    }
   ],
   "source": [
    "env.render()"
   ]
  },
  {
   "cell_type": "code",
   "execution_count": 61,
   "metadata": {},
   "outputs": [
    {
     "name": "stdout",
     "output_type": "stream",
     "text": [
      "State-Value Function:\n",
      "[[0.0139372  0.01162942 0.02095187 0.01047569]\n",
      " [0.01624741 0.         0.04075119 0.        ]\n",
      " [0.03480561 0.08816967 0.14205297 0.        ]\n",
      " [0.         0.17582021 0.43929104 0.        ]]\n"
     ]
    }
   ],
   "source": [
    "print(\"State-Value Function:\")\n",
    "print(V.reshape(4, 4))"
   ]
  },
  {
   "cell_type": "code",
   "execution_count": 62,
   "metadata": {},
   "outputs": [],
   "source": [
    "def action_value_function(env, V, gamma=1):\n",
    "    '''\n",
    "    Input:\n",
    "        env:\n",
    "        V:\n",
    "        gamma:\n",
    "    \n",
    "    Output:\n",
    "        Q\n",
    "    '''\n",
    "    Q = np.zeros([env.nS, env.nA])\n",
    "    for state in range(env.nS):\n",
    "        for action in range(env.nA):\n",
    "            for prob, next_state, reward, done in env.P[state][action]:\n",
    "                Q[state][action] += prob * (reward + gamma * V[next_state])\n",
    "    return Q"
   ]
  },
  {
   "cell_type": "code",
   "execution_count": 63,
   "metadata": {},
   "outputs": [
    {
     "name": "stdout",
     "output_type": "stream",
     "text": [
      "Action-Value Function:\n",
      "[[0.01470727 0.01393801 0.01393801 0.01316794]\n",
      " [0.00852221 0.01162969 0.01086043 0.01550616]\n",
      " [0.02444416 0.0209521  0.02405958 0.01435233]\n",
      " [0.01047585 0.01047585 0.00698379 0.01396775]\n",
      " [0.02166341 0.01701767 0.0162476  0.01006154]\n",
      " [0.         0.         0.         0.        ]\n",
      " [0.05433495 0.04735099 0.05433495 0.00698396]\n",
      " [0.         0.         0.         0.        ]\n",
      " [0.01701767 0.04099176 0.03480569 0.04640756]\n",
      " [0.0702086  0.11755959 0.10595772 0.05895286]\n",
      " [0.18940397 0.17582024 0.16001408 0.04297362]\n",
      " [0.         0.         0.         0.        ]\n",
      " [0.         0.         0.         0.        ]\n",
      " [0.08799662 0.20503708 0.23442697 0.17582024]\n",
      " [0.25238807 0.53837042 0.52711467 0.43929106]\n",
      " [0.         0.         0.         0.        ]]\n"
     ]
    }
   ],
   "source": [
    "Q = action_value_function(env, V)\n",
    "print(\"Action-Value Function:\")\n",
    "print(Q)"
   ]
  },
  {
   "cell_type": "markdown",
   "metadata": {},
   "source": [
    "#### Policy Improvement:\n",
    "Given a value function corresponding to a policy, proposes a better or equal policy.\n",
    "we calculate action value function from the state value function and pick the action which maximizes the action value function"
   ]
  },
  {
   "cell_type": "markdown",
   "metadata": {},
   "source": [
    "\\begin{align}\n",
    "v_{\\pi^\\prime}(s) = \\max_a\\sum_{s^\\prime,r}p(s^\\prime, r|s, a)(r+\\gamma*v_{\\pi^\\prime}(s^\\prime))\n",
    "\\end{align}\n"
   ]
  },
  {
   "cell_type": "code",
   "execution_count": 64,
   "metadata": {},
   "outputs": [],
   "source": [
    "def policy_improvement(env, V, gamma=1.0):\n",
    "    '''\n",
    "    Input :\n",
    "        env\n",
    "        V\n",
    "        gamma\n",
    "    Output:\n",
    "        policy\n",
    "    '''\n",
    "    policy = np.zeros([env.nS, env.nA])\n",
    "    Q = action_value_function(env, V, gamma)\n",
    "    \n",
    "    for state in range(env.nS):\n",
    "        best_actions = np.argwhere(Q[state] == max(Q[state])).flatten()\n",
    "        policy[state] = [1/len(best_actions) if i in best_actions else 0 for i in range(env.nA)]\n",
    "        \n",
    "    return policy"
   ]
  },
  {
   "cell_type": "code",
   "execution_count": 65,
   "metadata": {},
   "outputs": [
    {
     "data": {
      "text/plain": [
       "array([[0.01470727, 0.01393801, 0.01393801, 0.01316794],\n",
       "       [0.00852221, 0.01162969, 0.01086043, 0.01550616],\n",
       "       [0.02444416, 0.0209521 , 0.02405958, 0.01435233],\n",
       "       [0.01047585, 0.01047585, 0.00698379, 0.01396775],\n",
       "       [0.02166341, 0.01701767, 0.0162476 , 0.01006154],\n",
       "       [0.        , 0.        , 0.        , 0.        ],\n",
       "       [0.05433495, 0.04735099, 0.05433495, 0.00698396],\n",
       "       [0.        , 0.        , 0.        , 0.        ],\n",
       "       [0.01701767, 0.04099176, 0.03480569, 0.04640756],\n",
       "       [0.0702086 , 0.11755959, 0.10595772, 0.05895286],\n",
       "       [0.18940397, 0.17582024, 0.16001408, 0.04297362],\n",
       "       [0.        , 0.        , 0.        , 0.        ],\n",
       "       [0.        , 0.        , 0.        , 0.        ],\n",
       "       [0.08799662, 0.20503708, 0.23442697, 0.17582024],\n",
       "       [0.25238807, 0.53837042, 0.52711467, 0.43929106],\n",
       "       [0.        , 0.        , 0.        , 0.        ]])"
      ]
     },
     "execution_count": 65,
     "metadata": {},
     "output_type": "execute_result"
    }
   ],
   "source": [
    "Q = action_value_function(env, V, 1.0)\n",
    "Q"
   ]
  },
  {
   "cell_type": "code",
   "execution_count": 66,
   "metadata": {},
   "outputs": [
    {
     "name": "stdout",
     "output_type": "stream",
     "text": [
      "\n",
      "\u001b[41mS\u001b[0mFFF\n",
      "FHFH\n",
      "FFFH\n",
      "HFFG\n"
     ]
    }
   ],
   "source": [
    "env.render()"
   ]
  },
  {
   "cell_type": "code",
   "execution_count": 67,
   "metadata": {},
   "outputs": [
    {
     "data": {
      "text/plain": [
       "array([[1.  , 0.  , 0.  , 0.  ],\n",
       "       [0.  , 0.  , 0.  , 1.  ],\n",
       "       [1.  , 0.  , 0.  , 0.  ],\n",
       "       [0.  , 0.  , 0.  , 1.  ],\n",
       "       [1.  , 0.  , 0.  , 0.  ],\n",
       "       [0.25, 0.25, 0.25, 0.25],\n",
       "       [0.5 , 0.  , 0.5 , 0.  ],\n",
       "       [0.25, 0.25, 0.25, 0.25],\n",
       "       [0.  , 0.  , 0.  , 1.  ],\n",
       "       [0.  , 1.  , 0.  , 0.  ],\n",
       "       [1.  , 0.  , 0.  , 0.  ],\n",
       "       [0.25, 0.25, 0.25, 0.25],\n",
       "       [0.25, 0.25, 0.25, 0.25],\n",
       "       [0.  , 0.  , 1.  , 0.  ],\n",
       "       [0.  , 1.  , 0.  , 0.  ],\n",
       "       [0.25, 0.25, 0.25, 0.25]])"
      ]
     },
     "execution_count": 67,
     "metadata": {},
     "output_type": "execute_result"
    }
   ],
   "source": [
    "policy_improvement(env, V)"
   ]
  },
  {
   "cell_type": "markdown",
   "metadata": {},
   "source": [
    "#### Policy Iteration"
   ]
  },
  {
   "cell_type": "code",
   "execution_count": 68,
   "metadata": {},
   "outputs": [],
   "source": [
    "def policy_iteration(env, gamma=0.9, theta=1e-8):\n",
    "    \n",
    "    policy = np.ones([env.nS, env.nA]) / env.nA\n",
    "    \n",
    "    for _ in range(100):\n",
    "        V = iterative_policy_evaluation(env, policy, gamma, theta)\n",
    "        new_policy = policy_improvement(env, V, gamma)\n",
    "        \n",
    "        if (new_policy == policy).all():\n",
    "            break\n",
    "        policy = np.copy(new_policy)\n",
    "        \n",
    "    return policy, V"
   ]
  },
  {
   "cell_type": "code",
   "execution_count": 69,
   "metadata": {},
   "outputs": [],
   "source": [
    "# Truncated Policy Iteration"
   ]
  },
  {
   "cell_type": "code",
   "execution_count": 70,
   "metadata": {},
   "outputs": [],
   "source": [
    "policy, V = policy_iteration(env)"
   ]
  },
  {
   "cell_type": "code",
   "execution_count": 71,
   "metadata": {},
   "outputs": [
    {
     "data": {
      "text/plain": [
       "array([[1.  , 0.  , 0.  , 0.  ],\n",
       "       [0.  , 0.  , 0.  , 1.  ],\n",
       "       [1.  , 0.  , 0.  , 0.  ],\n",
       "       [0.  , 0.  , 0.  , 1.  ],\n",
       "       [1.  , 0.  , 0.  , 0.  ],\n",
       "       [0.25, 0.25, 0.25, 0.25],\n",
       "       [0.5 , 0.  , 0.5 , 0.  ],\n",
       "       [0.25, 0.25, 0.25, 0.25],\n",
       "       [0.  , 0.  , 0.  , 1.  ],\n",
       "       [0.  , 1.  , 0.  , 0.  ],\n",
       "       [1.  , 0.  , 0.  , 0.  ],\n",
       "       [0.25, 0.25, 0.25, 0.25],\n",
       "       [0.25, 0.25, 0.25, 0.25],\n",
       "       [0.  , 0.  , 1.  , 0.  ],\n",
       "       [0.  , 1.  , 0.  , 0.  ],\n",
       "       [0.25, 0.25, 0.25, 0.25]])"
      ]
     },
     "execution_count": 71,
     "metadata": {},
     "output_type": "execute_result"
    }
   ],
   "source": [
    "policy"
   ]
  },
  {
   "cell_type": "code",
   "execution_count": 72,
   "metadata": {},
   "outputs": [
    {
     "data": {
      "text/plain": [
       "array([[0.06889086, 0.06141454, 0.07440974, 0.0558073 ],\n",
       "       [0.0918545 , 0.        , 0.1122082 , 0.        ],\n",
       "       [0.14543633, 0.24749694, 0.29961758, 0.        ],\n",
       "       [0.        , 0.37993589, 0.63902014, 0.        ]])"
      ]
     },
     "execution_count": 72,
     "metadata": {},
     "output_type": "execute_result"
    }
   ],
   "source": [
    "V.reshape(4, 4)"
   ]
  },
  {
   "cell_type": "code",
   "execution_count": 73,
   "metadata": {},
   "outputs": [
    {
     "data": {
      "text/plain": [
       "(array([[1.  , 0.  , 0.  , 0.  ],\n",
       "        [0.  , 0.  , 0.  , 1.  ],\n",
       "        [1.  , 0.  , 0.  , 0.  ],\n",
       "        [0.  , 0.  , 0.  , 1.  ],\n",
       "        [1.  , 0.  , 0.  , 0.  ],\n",
       "        [0.25, 0.25, 0.25, 0.25],\n",
       "        [0.5 , 0.  , 0.5 , 0.  ],\n",
       "        [0.25, 0.25, 0.25, 0.25],\n",
       "        [0.  , 0.  , 0.  , 1.  ],\n",
       "        [0.  , 1.  , 0.  , 0.  ],\n",
       "        [1.  , 0.  , 0.  , 0.  ],\n",
       "        [0.25, 0.25, 0.25, 0.25],\n",
       "        [0.25, 0.25, 0.25, 0.25],\n",
       "        [0.  , 0.  , 1.  , 0.  ],\n",
       "        [0.  , 1.  , 0.  , 0.  ],\n",
       "        [0.25, 0.25, 0.25, 0.25]]),\n",
       " array([0.06889086, 0.06141454, 0.07440974, 0.0558073 , 0.0918545 ,\n",
       "        0.        , 0.1122082 , 0.        , 0.14543633, 0.24749694,\n",
       "        0.29961758, 0.        , 0.        , 0.37993589, 0.63902014,\n",
       "        0.        ]))"
      ]
     },
     "execution_count": 73,
     "metadata": {},
     "output_type": "execute_result"
    }
   ],
   "source": [
    "policy_iteration(env, gamma=0.9)"
   ]
  },
  {
   "cell_type": "markdown",
   "metadata": {},
   "source": [
    "#### Value Iteration"
   ]
  },
  {
   "cell_type": "code",
   "execution_count": 74,
   "metadata": {},
   "outputs": [
    {
     "data": {
      "text/plain": [
       "array([[0.01470727, 0.01393801, 0.01393801, 0.01316794],\n",
       "       [0.00852221, 0.01162969, 0.01086043, 0.01550616],\n",
       "       [0.02444416, 0.0209521 , 0.02405958, 0.01435233],\n",
       "       [0.01047585, 0.01047585, 0.00698379, 0.01396775],\n",
       "       [0.02166341, 0.01701767, 0.0162476 , 0.01006154],\n",
       "       [0.        , 0.        , 0.        , 0.        ],\n",
       "       [0.05433495, 0.04735099, 0.05433495, 0.00698396],\n",
       "       [0.        , 0.        , 0.        , 0.        ],\n",
       "       [0.01701767, 0.04099176, 0.03480569, 0.04640756],\n",
       "       [0.0702086 , 0.11755959, 0.10595772, 0.05895286],\n",
       "       [0.18940397, 0.17582024, 0.16001408, 0.04297362],\n",
       "       [0.        , 0.        , 0.        , 0.        ],\n",
       "       [0.        , 0.        , 0.        , 0.        ],\n",
       "       [0.08799662, 0.20503708, 0.23442697, 0.17582024],\n",
       "       [0.25238807, 0.53837042, 0.52711467, 0.43929106],\n",
       "       [0.        , 0.        , 0.        , 0.        ]])"
      ]
     },
     "execution_count": 74,
     "metadata": {},
     "output_type": "execute_result"
    }
   ],
   "source": [
    "Q"
   ]
  },
  {
   "cell_type": "markdown",
   "metadata": {},
   "source": [
    "###  Value Iteration\n",
    "<img src='images/value_iteration.png'>"
   ]
  },
  {
   "cell_type": "code",
   "execution_count": 75,
   "metadata": {},
   "outputs": [],
   "source": [
    "def value_iteration(env, gamma=1.0, theta=1e-8):\n",
    "    V = np.zeros(env.nS)\n",
    "    \n",
    "    while True:\n",
    "        delta = 0 \n",
    "        Q = action_value_function(env, V, gamma)\n",
    "        for s in range(env.nS):\n",
    "            v_s = V[s]\n",
    "            V[s] = max(Q[s])\n",
    "            delta = max(delta, abs(v_s - V[s]))\n",
    "        if delta<theta:\n",
    "            break\n",
    "        \n",
    "    policy = policy_improvement(env, V, gamma)\n",
    "    \n",
    "    return policy, V.reshape(4, 4)"
   ]
  },
  {
   "cell_type": "code",
   "execution_count": 76,
   "metadata": {},
   "outputs": [
    {
     "data": {
      "text/plain": [
       "(array([[1.  , 0.  , 0.  , 0.  ],\n",
       "        [0.  , 0.  , 0.  , 1.  ],\n",
       "        [1.  , 0.  , 0.  , 0.  ],\n",
       "        [0.  , 0.  , 0.  , 1.  ],\n",
       "        [1.  , 0.  , 0.  , 0.  ],\n",
       "        [0.25, 0.25, 0.25, 0.25],\n",
       "        [0.5 , 0.  , 0.5 , 0.  ],\n",
       "        [0.25, 0.25, 0.25, 0.25],\n",
       "        [0.  , 0.  , 0.  , 1.  ],\n",
       "        [0.  , 1.  , 0.  , 0.  ],\n",
       "        [1.  , 0.  , 0.  , 0.  ],\n",
       "        [0.25, 0.25, 0.25, 0.25],\n",
       "        [0.25, 0.25, 0.25, 0.25],\n",
       "        [0.  , 0.  , 1.  , 0.  ],\n",
       "        [0.  , 1.  , 0.  , 0.  ],\n",
       "        [0.25, 0.25, 0.25, 0.25]]),\n",
       " array([[0.06889084, 0.06141452, 0.07440972, 0.05580728],\n",
       "        [0.09185448, 0.        , 0.11220819, 0.        ],\n",
       "        [0.14543631, 0.24749692, 0.29961757, 0.        ],\n",
       "        [0.        , 0.37993588, 0.63902014, 0.        ]]))"
      ]
     },
     "execution_count": 76,
     "metadata": {},
     "output_type": "execute_result"
    }
   ],
   "source": [
    "value_iteration(env, gamma=0.9)"
   ]
  },
  {
   "cell_type": "code",
   "execution_count": null,
   "metadata": {},
   "outputs": [],
   "source": []
  }
 ],
 "metadata": {
  "kernelspec": {
   "display_name": "Python 3",
   "language": "python",
   "name": "python3"
  },
  "language_info": {
   "codemirror_mode": {
    "name": "ipython",
    "version": 3
   },
   "file_extension": ".py",
   "mimetype": "text/x-python",
   "name": "python",
   "nbconvert_exporter": "python",
   "pygments_lexer": "ipython3",
   "version": "3.7.6"
  }
 },
 "nbformat": 4,
 "nbformat_minor": 4
}
