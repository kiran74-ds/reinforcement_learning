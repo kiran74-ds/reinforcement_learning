{
 "cells": [
  {
   "cell_type": "code",
   "execution_count": 156,
   "metadata": {},
   "outputs": [],
   "source": [
    "import gym\n",
    "import numpy as np\n",
    "from collections import deque\n",
    "import torch\n",
    "import torch.nn as nn\n",
    "import torch.nn.functional as F\n",
    "from torch.distributions import Categorical \n",
    "import torch.optim as optim"
   ]
  },
  {
   "cell_type": "code",
   "execution_count": 157,
   "metadata": {},
   "outputs": [],
   "source": [
    "env = gym.make('CartPole-v1')"
   ]
  },
  {
   "cell_type": "code",
   "execution_count": 158,
   "metadata": {},
   "outputs": [],
   "source": [
    "state_size = env.observation_space.shape[0]\n",
    "action_size = env.action_space.n"
   ]
  },
  {
   "cell_type": "code",
   "execution_count": 159,
   "metadata": {},
   "outputs": [
    {
     "data": {
      "text/plain": [
       "4"
      ]
     },
     "execution_count": 159,
     "metadata": {},
     "output_type": "execute_result"
    }
   ],
   "source": [
    "state_size"
   ]
  },
  {
   "cell_type": "code",
   "execution_count": 160,
   "metadata": {},
   "outputs": [],
   "source": [
    "state = env.reset()"
   ]
  },
  {
   "cell_type": "code",
   "execution_count": 161,
   "metadata": {},
   "outputs": [
    {
     "data": {
      "text/plain": [
       "array([-0.0453813 , -0.024898  ,  0.02862003,  0.02088778])"
      ]
     },
     "execution_count": 161,
     "metadata": {},
     "output_type": "execute_result"
    }
   ],
   "source": [
    "state"
   ]
  },
  {
   "cell_type": "code",
   "execution_count": 162,
   "metadata": {},
   "outputs": [],
   "source": [
    "class Agent(nn.Module):\n",
    "    def __init__(self, state_size, action_size):\n",
    "        super(Agent, self).__init__()\n",
    "        self.fc1 = nn.Linear(state_size, 8)\n",
    "        self.fc2 = nn.Linear(8, action_size)\n",
    "    \n",
    "    def forward(self, state):\n",
    "        x = F.relu(self.fc1(state))\n",
    "        x = self.fc2(x)\n",
    "        return F.softmax(x, dim=1)\n",
    "    \n",
    "    def get_action(self, state):\n",
    "        state = torch.from_numpy(state).float().unsqueeze(0)\n",
    "        action_probs = agent(state)\n",
    "        m = Categorical(action_probs)\n",
    "        action = m.sample()\n",
    "        log_prob = m.log_prob(action)\n",
    "        return action.item(), log_prob"
   ]
  },
  {
   "cell_type": "code",
   "execution_count": 200,
   "metadata": {},
   "outputs": [],
   "source": [
    "agent = Agent(state_size, action_size)\n",
    "optimizer = optim.Adam(agent.parameters(), lr=1e-2)\n",
    "\n",
    "def reinforce(n_episodes=1000, gamma=0.9, max_t=1000):\n",
    "    scores_window = deque(maxlen=100)\n",
    "    scores = []\n",
    "    for episode in range(1, n_episodes+1):\n",
    "        state = env.reset()\n",
    "        log_probs = []\n",
    "        rewards = []\n",
    "        for i in range(max_t):\n",
    "            action, prob = agent.get_action(state)\n",
    "            log_probs.append(prob)\n",
    "            next_state, reward, done, _ = env.step(action)\n",
    "            state = next_state\n",
    "            rewards.append(reward)\n",
    "            if done:\n",
    "                break\n",
    "        \n",
    "        scores_window.append(sum(rewards))\n",
    "        scores.append(sum(rewards))\n",
    "        discounts = [gamma * i for i in range(len(rewards)+1)]\n",
    "        R = sum([x*y for x, y in zip(discounts, rewards)])\n",
    "        \n",
    "        loss = []\n",
    "        for prob in log_probs:\n",
    "            loss.append(-prob * R)\n",
    "        loss = torch.cat(loss).sum()\n",
    "        \n",
    "        optimizer.zero_grad()\n",
    "        loss.backward()\n",
    "        optimizer.step()\n",
    "        \n",
    "        print(\"\\rEpisode : {}\\tAverage Score: {:2f}\".format(episode, np.mean(scores_window)), end=\"\")\n",
    "        \n",
    "        if episode % 100==0:\n",
    "            print(\"\\rEpisode : {}\\tAverage Score:{:2f}\".format(episode, np.mean(scores_window)))\n",
    "        \n",
    "    "
   ]
  },
  {
   "cell_type": "code",
   "execution_count": 201,
   "metadata": {},
   "outputs": [
    {
     "name": "stdout",
     "output_type": "stream",
     "text": [
      "Episode : 100\tAverage Score:25.5000000\n",
      "Episode : 200\tAverage Score:38.1300000\n",
      "Episode : 300\tAverage Score:52.4300000\n",
      "Episode : 400\tAverage Score:92.0700000\n",
      "Episode : 500\tAverage Score:57.1500000\n",
      "Episode : 600\tAverage Score:35.1000000\n",
      "Episode : 700\tAverage Score:254.5700000\n",
      "Episode : 800\tAverage Score:492.7900000\n",
      "Episode : 900\tAverage Score:473.4100000\n",
      "Episode : 1000\tAverage Score:500.0000000\n",
      "Episode : 1100\tAverage Score:497.2900000\n",
      "Episode : 1200\tAverage Score:500.0000000\n",
      "Episode : 1300\tAverage Score:427.0300000\n",
      "Episode : 1400\tAverage Score:460.7900000\n",
      "Episode : 1500\tAverage Score:487.4800000\n",
      "Episode : 1600\tAverage Score:490.3500000\n",
      "Episode : 1700\tAverage Score:471.2100000\n",
      "Episode : 1800\tAverage Score:470.8500000\n",
      "Episode : 1900\tAverage Score:500.0000000\n",
      "Episode : 2000\tAverage Score:500.0000000\n"
     ]
    }
   ],
   "source": [
    "reinforce(n_episodes=2000)"
   ]
  },
  {
   "cell_type": "code",
   "execution_count": 203,
   "metadata": {},
   "outputs": [
    {
     "name": "stdout",
     "output_type": "stream",
     "text": [
      "Score : 500.0\n"
     ]
    }
   ],
   "source": [
    "state = env.reset()\n",
    "score = 0\n",
    "for i in range(1000):\n",
    "    env.render()\n",
    "    action, prob = agent.get_action(state)\n",
    "    next_state, reward, done, _ = env.step(action)\n",
    "    state = next_state\n",
    "    score += reward\n",
    "    if done:\n",
    "        break\n",
    "print(\"Score : {}\".format(score))\n",
    "env.close()"
   ]
  },
  {
   "cell_type": "code",
   "execution_count": null,
   "metadata": {},
   "outputs": [],
   "source": []
  }
 ],
 "metadata": {
  "kernelspec": {
   "display_name": "Python 3",
   "language": "python",
   "name": "python3"
  },
  "language_info": {
   "codemirror_mode": {
    "name": "ipython",
    "version": 3
   },
   "file_extension": ".py",
   "mimetype": "text/x-python",
   "name": "python",
   "nbconvert_exporter": "python",
   "pygments_lexer": "ipython3",
   "version": "3.7.6"
  }
 },
 "nbformat": 4,
 "nbformat_minor": 4
}
